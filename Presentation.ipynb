{
 "cells": [
  {
   "cell_type": "markdown",
   "source": [
    "# **PSO vs Random Walk**: Aplicações no problema de roteamento de veículos capacitados"
   ],
   "metadata": {}
  },
  {
   "cell_type": "markdown",
   "source": [
    "## Sumário\n",
    "\n",
    "1. [Introdução](#Introdução)\n",
    "    - [O módulo `cvrp`](#O-módulo-cvrpy)\n",
    "    - LoggiBUD\n",
    "    - OSRM - Open Street Machine Routing\n",
    "2. Testes experimentais\n",
    "    - Codificação\n",
    "    - Random Walk\n",
    "    - Particle Swarm"
   ],
   "metadata": {}
  },
  {
   "cell_type": "markdown",
   "source": [
    "# Introdução\n",
    "\n",
    "<p style=\"font-size: 12pt\">\n",
    "O problema de roteamento de veículos é um problema de classe NP-Difícil de\n",
    "grande interesse da indústria, devido à sua importância para o setor de\n",
    "logística é um problema amplamente estudado por pesquisadores de todo o mundo no\n",
    "campo de otimização combinatória e pesquisa operacional.\n",
    "</p>\n",
    "\n",
    "<p style=\"font-size: 12pt\">\n",
    "No problema de roteamento de veículos existe um depósito de onde partem um\n",
    "conjunto de veículos, um conjunto finito de entregas devem ser feitas e cada\n",
    "entrega possui um peso e estão distribuídas em um plano e interconectadas (um\n",
    "grafo). O objetivo é encontrar um solução onde cada veículo tenha uma rota que\n",
    "parte do depósito, atende um conjunto de entregas sem que uma mesma e retorna\n",
    "para o depósito sem que uma mesma entrega esteja em duas rotas diferentes e com\n",
    "a menor distância total percorrida pelos veículos. Existem uma variação desse\n",
    "problema que adiciona uma restrição: os veículos possuem uma capacidade de carga\n",
    "limitada e o conjunto de entregas que um veículo atende não pode ter um peso\n",
    "total maior do que a capacidade do veículo, essa variação é chamada de\n",
    "<strong>problema do roteamento de veículos capacitados</strong>.\n",
    "</p>\n",
    "\n",
    "<img\n",
    "  src=\"https://d3i71xaburhd42.cloudfront.net/8e2f197670ab5f20c13ed8a0197e26f713663f81/2-Figure1-1.png\"\n",
    "  width=\"240\"\n",
    "/>\n",
    "\n",
    "<p style=\"font-size: 12pt\">\n",
    "Esse trabalho buscar analisar a aplicação de duas técnicas de otimização\n",
    "distintas, o algoritmo de Random Walk e o algoritmo de otimização por enxame de\n",
    "partículas (PSO - <i>Particle Swarm Optimization</i>), demonstrando suas\n",
    "diferenças e as vantagens da utilização de uma sobre a outra.\n",
    "</p>"
   ],
   "metadata": {}
  },
  {
   "cell_type": "markdown",
   "source": [
    "## O módulo `cvrpy`\n",
    "\n",
    "<p style=\"font-size: 12pt\">\n",
    "Esse trabalho implementa os algoritmo e modelagens em Python e foi organizado\n",
    "como um módulo chamado de <code>cvrpy</code> que pode ser importado abstraindo as\n",
    "implementações de seu uso.\n",
    "O módulo fornece classes para a criação de vetores codificando as soluções para\n",
    "o problema tanto para o Random Walk (com a class <code>Individual</code>) com\n",
    "para o PSO (com a class <code>Particle</code>). Oferece também as implementações\n",
    "dos dois algoritmos e uma API simples para executá-los, apenas instanciando um\n",
    "objeto com os parâmteros do algoritmo e executando um método, um simples\n",
    "<code>randomwalk.run(until=100)</code> é o suficiente para executar.\n",
    "</p>\n",
    "\n",
    "<p style=\"font-size: 12pt\">\n",
    "Além disso, o módulos também abstrai a modelagem do problema e as funções que\n",
    "usam o <a href=\"htps://project-osrm.org/\">serviço OSRM</a> (que deve ser rodado\n",
    "em background)."
   ],
   "metadata": {}
  },
  {
   "cell_type": "markdown",
   "source": [
    "## LoggiBUD\n",
    "\n",
    "<p style=\"font-size: 12pt\">\n",
    "O projeto foi desenvolvido usando as instâncias e recursos fornecidos pelo\n",
    "<a href=\"https://github.com/loggi/loggibud\">LoggiBUD</a> (Loggi Benchmark for\n",
    "Urban Deliveries) criado por engenheiros da <a href=\"https://loggi.com\">Loggi</a>\n",
    "que fornece instâncias do problema de roteamento de veículos mais próximas dos\n",
    "problemas enfrentados na indústria de logística e com informações geográficas de\n",
    "cidades brasileiras. Mais informações podem ser consultadas no repositório\n",
    "oficial no Github em\n",
    "<a href=\"https://github.com/loggi/loggibud\">https://github.com/loggi/loggibud</a>.\n",
    "</p>"
   ],
   "metadata": {}
  },
  {
   "cell_type": "markdown",
   "source": [
    "## OSRM - Open Street Machine Routing\n",
    "\n"
   ],
   "metadata": {}
  }
 ],
 "metadata": {
  "orig_nbformat": 4,
  "language_info": {
   "name": "python",
   "version": "3.8.10"
  },
  "kernelspec": {
   "name": "python3",
   "display_name": "Python 3.8.10 64-bit"
  },
  "interpreter": {
   "hash": "916dbcbb3f70747c44a77c7bcd40155683ae19c65e1c03b4aa3499c5328201f1"
  }
 },
 "nbformat": 4,
 "nbformat_minor": 2
}
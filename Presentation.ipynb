{
 "cells": [
  {
   "cell_type": "markdown",
   "source": [
    "# **PSO vs Random Walk**: Aplicações no problema de roteamento de veículos capacitados"
   ],
   "metadata": {}
  },
  {
   "cell_type": "markdown",
   "source": [
    "## Sumário\n",
    "\n",
    "1. [Introdução](#Introdução)\n",
    "2. [O módulo `cvrp`](#O-módulo-cvrpy)\n",
    "3. LoggiBUD\n",
    "4. OSRM - Open Street Machine Routing\n",
    "2. Testes experimentais\n",
    "    - Codificação\n",
    "    - Random Walk\n",
    "    - Particle Swarm"
   ],
   "metadata": {}
  },
  {
   "cell_type": "markdown",
   "source": [
    "# Introdução\n",
    "\n",
    "<p style=\"font-size: 12pt\">\n",
    "O problema de roteamento de veículos é um problema de classe NP-Difícil de\n",
    "grande interesse da indústria, devido à sua importância para o setor de\n",
    "logística é um problema amplamente estudado por pesquisadores de todo o mundo no\n",
    "campo de otimização combinatória e pesquisa operacional.\n",
    "</p>\n",
    "\n",
    "<p style=\"font-size: 12pt\">\n",
    "No problema de roteamento de veículos existe um depósito de onde partem um\n",
    "conjunto de veículos, um conjunto finito de entregas devem ser feitas e cada\n",
    "entrega possui um peso e estão distribuídas em um plano e interconectadas (um\n",
    "grafo). O objetivo é encontrar um solução onde cada veículo tenha uma rota que\n",
    "parte do depósito, atende um conjunto de entregas sem que uma mesma e retorna\n",
    "para o depósito sem que uma mesma entrega esteja em duas rotas diferentes e com\n",
    "a menor distância total percorrida pelos veículos. Existem uma variação desse\n",
    "problema que adiciona uma restrição: os veículos possuem uma capacidade de carga\n",
    "limitada e o conjunto de entregas que um veículo atende não pode ter um peso\n",
    "total maior do que a capacidade do veículo, essa variação é chamada de\n",
    "<strong>problema do roteamento de veículos capacitados</strong>.\n",
    "</p>\n",
    "\n",
    "<img\n",
    "  src=\"https://d3i71xaburhd42.cloudfront.net/8e2f197670ab5f20c13ed8a0197e26f713663f81/2-Figure1-1.png\"\n",
    "  width=\"240\"\n",
    "/>\n",
    "\n",
    "<p style=\"font-size: 12pt\">\n",
    "Esse trabalho buscar analisar a aplicação de duas técnicas de otimização\n",
    "distintas, o algoritmo de Random Walk e o algoritmo de otimização por enxame de\n",
    "partículas (PSO - <i>Particle Swarm Optimization</i>), demonstrando suas\n",
    "diferenças e as vantagens da utilização de uma sobre a outra.\n",
    "</p>"
   ],
   "metadata": {}
  },
  {
   "cell_type": "markdown",
   "source": [
    "## O módulo `cvrpy`\n",
    "\n",
    "<p style=\"font-size: 12pt\">\n",
    "Esse trabalho implementa os algoritmo e modelagens em Python e foi organizado\n",
    "como um módulo chamado de <code>cvrpy</code> que pode ser importado abstraindo as\n",
    "implementações de seu uso.\n",
    "O módulo fornece classes para a criação de vetores codificando as soluções para\n",
    "o problema tanto para o Random Walk (com a class <code>Individual</code>) com\n",
    "para o PSO (com a class <code>Particle</code>). Oferece também as implementações\n",
    "dos dois algoritmos e uma API simples para executá-los, apenas instanciando um\n",
    "objeto com os parâmteros do algoritmo e executando um método, um simples\n",
    "<code>randomwalk.run(until=100)</code> é o suficiente para executar.\n",
    "</p>\n",
    "\n",
    "<p style=\"font-size: 12pt\">\n",
    "Além disso, o módulos também abstrai a modelagem do problema e as funções que\n",
    "usam o <a href=\"http://project-osrm.org/\">serviço OSRM</a> (que deve ser rodado\n",
    "em background) para calcular distâncias entre pontos no mapa considerando as\n",
    "rodovias entre eles."
   ],
   "metadata": {}
  },
  {
   "cell_type": "markdown",
   "source": [
    "## LoggiBUD\n",
    "\n",
    "<p style=\"font-size: 12pt\">\n",
    "O projeto foi desenvolvido usando as instâncias e recursos fornecidos pelo\n",
    "<a href=\"https://github.com/loggi/loggibud\">LoggiBUD</a> (Loggi Benchmark for\n",
    "Urban Deliveries) criado por engenheiros da <a href=\"https://loggi.com\">Loggi</a>\n",
    "que fornece instâncias do problema de roteamento de veículos mais próximas dos\n",
    "problemas enfrentados na indústria de logística e com informações geográficas de\n",
    "cidades brasileiras. Mais informações podem ser consultadas no repositório\n",
    "oficial no Github em\n",
    "<a href=\"https://github.com/loggi/loggibud\">https://github.com/loggi/loggibud</a>.\n",
    "</p>"
   ],
   "metadata": {}
  },
  {
   "cell_type": "markdown",
   "source": [
    "## OSRM - Open Street Machine Routing\n",
    "\n",
    "<p style=\"font-size: 12pt\">\n",
    "O OSRM é um motor de roteamento baseado em dados do <strong>Open Street Maps</strong>\n",
    "que fornece uma API HTTP para vários tipos de operações com informações\n",
    "geográficas. É usado nesse projeto para calcular as distâncias entre dois pontos\n",
    "no mapa fornecendo um meio de calcular o fitness de uma solução, ou seja, de\n",
    "dizer a distância total percorrida em uma solução definida por uma partícula/indivíduo.\n",
    "</p>\n",
    "\n",
    "<p style=\"font-size: 12pt\">\n",
    "O seguinte comando deve ser usado para subir um container Docker do OSRM em\n",
    "background antes de executar qualquer experimento com um dos algoritmos.\n",
    "</p>\n",
    "\n",
    "<p><code>docker run --rm -t -id --name osrm -p 5000:5000 -v \"${PWD}/osrm:/data\" osrm/osrm-backend:v5.24.0 osrm-routed --algorithm ch /data/brazil-201110.osrm --max-table-size 10000</code></p>\n",
    "\n",
    "<p style=\"font-size: 12pt\">\n",
    "Mais informações sobre a ferramenta podem ser encontradas em\n",
    "<a href=\"http://project-osrm.org\">http://project-osrm.org</a>."
   ],
   "metadata": {}
  },
  {
   "cell_type": "code",
   "execution_count": 1,
   "source": [
    "# Descomente a linha abaixo para executar o container\n",
    "# !docker run --rm -t -id --name osrm -p 5000:5000 -v \"${PWD}/osrm:/data\" osrm/osrm-backend:v5.24.0 osrm-routed --algorithm ch /data/brazil-201110.osrm --max-table-size 10000"
   ],
   "outputs": [],
   "metadata": {}
  },
  {
   "cell_type": "markdown",
   "source": [
    "# Testes experimentais\n",
    "\n",
    "<p style=\"font-size: 12pt\">\n",
    "Para executar os testes para gerar resultados foram utilizadas três instâncias\n",
    "do problema obtidas do LoggiBUD todas baseadas em informações geográficas no\n",
    "estado do Pará.\n",
    "</p>\n",
    "\n",
    "<p style=\"font-size: 12pt\">\n",
    "O LoggiBUD armazena as informações de instâncias como arquivos JSON e fornece\n",
    "uma classe Python para carregar as informações do arquivo diretamente em uma\n",
    "estrutura de dados. As três instâncias escolhidas foram:\n",
    "\n",
    "1. `pa-0/pa-101`\n",
    "2. `pa-0/pa-102`\n",
    "3. `pa-0/pa-103`"
   ],
   "metadata": {}
  },
  {
   "cell_type": "code",
   "execution_count": 2,
   "source": [
    "from loggibud.v1.types import CVRPInstance\n",
    "\n",
    "problem = CVRPInstance.from_file('data/cvrp_castanhal.json')\n",
    "print(f'{len(problem.deliveries)} entregas. Capacidade máx. por veículo: {problem.vehicle_capacity}')"
   ],
   "outputs": [
    {
     "output_type": "stream",
     "name": "stdout",
     "text": [
      "35 entregas. Capacidade máx. por veículo: 180\n"
     ]
    }
   ],
   "metadata": {}
  },
  {
   "cell_type": "code",
   "execution_count": 3,
   "source": [
    "# Pré-definições\n",
    "from typing import List, Union\n",
    "from cvrpy.rw import Individual\n",
    "from cvrpy.pso import Particle\n",
    "\n",
    "NUM_SOLUTIONS=100\n",
    "NUM_ITERATIONS=20\n",
    "NUM_VEHICLES=30\n",
    "\n",
    "class ExperimentResult:\n",
    "    num_executions: int\n",
    "    solutions: Union[List[Particle], List[Individual]]\n",
    "    convergences: List\n",
    "\n",
    "    def __init__(self):\n",
    "        self.num_executions = 0\n",
    "        self.solutions = []\n",
    "        self.convergences = []\n",
    "\n",
    "    def append(self, solution: Union[Particle, Individual], convergence: List):\n",
    "        self.solutions.append(solution)\n",
    "        self.convergences.append(convergence)\n",
    "        self.num_executions += 1\n"
   ],
   "outputs": [],
   "metadata": {}
  },
  {
   "cell_type": "markdown",
   "source": [
    "## Random Walk"
   ],
   "metadata": {}
  },
  {
   "cell_type": "code",
   "execution_count": 6,
   "source": [
    "from cvrpy.rw import RandomWalk\n",
    "\n",
    "def execute_random_walk_experiment(\n",
    "    problem: CVRPInstance,\n",
    "    num_executions: int,\n",
    "    num_individuals: int,\n",
    "    num_iterations: int,\n",
    "    num_vehicles: int\n",
    ") -> ExperimentResult:\n",
    "    rw = RandomWalk(num_individuals=num_individuals)\n",
    "    result = ExperimentResult()\n",
    "    for _ in range(num_executions):\n",
    "        solution = rw.run(num_iterations, problem, num_vehicles)\n",
    "        convergence = rw.get_convergence().copy()\n",
    "        result.append(solution, convergence)\n",
    "    return result"
   ],
   "outputs": [],
   "metadata": {}
  },
  {
   "cell_type": "code",
   "execution_count": 5,
   "source": [
    "from cvrpy.plotting import Plotter\n",
    "\n",
    "res = execute_random_walk_experiment(\n",
    "    problem=problem,\n",
    "    num_executions=5,\n",
    "    num_individuals=40,\n",
    "    num_iterations=100,\n",
    "    num_vehicles=5\n",
    ")\n",
    "\n",
    "fig, axes = Plotter.plot_convergence(res.convergences)\n",
    "fig.savefig('RandomWalk-cvrp-0-pa-101.png')"
   ],
   "outputs": [
    {
     "output_type": "display_data",
     "data": {
      "image/png": "[encoded data removed]",
      "text/plain": [
       "<Figure size 1080x504 with 1 Axes>"
      ]
     },
     "metadata": {
      "needs_background": "light"
     }
    }
   ],
   "metadata": {}
  },
  {
   "cell_type": "code",
   "execution_count": null,
   "source": [],
   "outputs": [],
   "metadata": {}
  },
  {
   "cell_type": "code",
   "execution_count": 7,
   "source": [
    "from cvrpy.pso import PSO\n",
    "\n",
    "def execute_pso_experiment(\n",
    "    problem: CVRPInstance,\n",
    "    num_executions: int,\n",
    "    num_particles: int,\n",
    "    num_iterations: int,\n",
    "    num_vehicles: int\n",
    ") -> ExperimentResult:\n",
    "    pso = PSO(problem, num_particles, num_vehicles)\n",
    "    result = ExperimentResult()\n",
    "    for _ in range(num_executions):\n",
    "        solution = pso.optimize(until=num_iterations)\n",
    "        result.append(solution, pso.convergence.copy())\n",
    "    return result"
   ],
   "outputs": [],
   "metadata": {}
  },
  {
   "cell_type": "code",
   "execution_count": null,
   "source": [
    "from cvrpy.plotting import Plotter\n",
    "\n",
    "res_pso = execute_pso_experiment(\n",
    "    problem=problem,\n",
    "    num_executions=5,\n",
    "    num_particles=40,\n",
    "    num_iterations=100,\n",
    "    num_vehicles=5\n",
    ")\n",
    "\n",
    "pso_fig, pso_axes = Plotter.plot_convergence(res.convergences)\n",
    "pso_fig.savefig('PSO-cvrp-0-pa-101.png')"
   ],
   "outputs": [],
   "metadata": {}
  }
 ],
 "metadata": {
  "orig_nbformat": 4,
  "language_info": {
   "name": "python",
   "version": "3.8.10",
   "mimetype": "text/x-python",
   "codemirror_mode": {
    "name": "ipython",
    "version": 3
   },
   "pygments_lexer": "ipython3",
   "nbconvert_exporter": "python",
   "file_extension": ".py"
  },
  "kernelspec": {
   "name": "python3",
   "display_name": "Python 3.8.10 64-bit"
  },
  "interpreter": {
   "hash": "916dbcbb3f70747c44a77c7bcd40155683ae19c65e1c03b4aa3499c5328201f1"
  }
 },
 "nbformat": 4,
 "nbformat_minor": 2
}
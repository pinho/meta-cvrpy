{
 "cells": [
  {
   "cell_type": "code",
   "execution_count": 1,
   "source": [
    "from cvrpy.pso import PSO\n",
    "\n",
    "pso = PSO(\n",
    "    lambda vec: 1/sum(vec),\n",
    "    num_iterations=100,\n",
    "    num_particles=100,\n",
    "    num_dimensions=20\n",
    ")\n",
    "\n",
    "solution = pso.optimize()\n",
    "\n",
    "print(type(solution))\n",
    "print(solution.position)\n"
   ],
   "outputs": [
    {
     "output_type": "stream",
     "name": "stdout",
     "text": [
      "<class 'cvrpy.pso.Particle'>\n",
      "[1. 1. 1. 1. 1. 1. 1. 1. 1. 1. 1. 1. 1. 1. 1. 1. 1. 1. 1. 1.]\n"
     ]
    }
   ],
   "metadata": {}
  },
  {
   "cell_type": "code",
   "execution_count": 1,
   "source": [
    "from loggibud.v1.types import CVRPInstance\n",
    "from cvrpy.utils import linear_distance, BoundTransformer\n",
    "from cvrpy.particle.decoder import ParticleDecoder\n",
    "from cvrpy.particle.factory import ParticleFactory\n",
    "\n",
    "instance = CVRPInstance.from_file('data/cvrp_castanhal.json')\n",
    "print(f'Número de clientes: {len(instance.deliveries)}')\n",
    "\n",
    "particle = ParticleFactory.create_for(instance, sum, num_vehicles=6)\n",
    "solution = ParticleDecoder.decode(particle, instance)\n",
    "\n",
    "print(particle)\n"
   ],
   "outputs": [
    {
     "output_type": "stream",
     "name": "stdout",
     "text": [
      "Número de clientes: 35\n",
      "Prioridade: [18, 1, 15, 26, 7, 16, 32, 19, 14, 31, 25, 29, 4, 2, 5, 6, 0, 13, 12, 30, 33, 20, 24, 27, 23, 34, 3, 22, 28, 9, 10, 11, 17, 8, 21]\n",
      "[0.57780614 0.06553498 0.51296932 0.77899778 0.46265549 0.52233708\n",
      " 0.54243788 0.09106444 0.91147    0.85871131 0.87311091 0.87386886\n",
      " 0.60496825 0.58108816 0.24609634 0.07348311 0.18278856 0.88955793\n",
      " 0.051336   0.20788155 0.6940385  0.99406951 0.77905166 0.76551753\n",
      " 0.71855747 0.2650258  0.08762816 0.72867764 0.79455999 0.30392646\n",
      " 0.64160869 0.26314781 0.20286306 0.664875   0.77808677 0.57245981\n",
      " 0.29169727 0.22891258 0.07242627 0.10019354 0.65153018 0.72814658\n",
      " 0.86137594 0.93675489 0.08009493 0.93852811 0.59557533] => 24.647494\n"
     ]
    }
   ],
   "metadata": {}
  }
 ],
 "metadata": {
  "orig_nbformat": 4,
  "language_info": {
   "name": "python",
   "version": "3.8.10",
   "mimetype": "text/x-python",
   "codemirror_mode": {
    "name": "ipython",
    "version": 3
   },
   "pygments_lexer": "ipython3",
   "nbconvert_exporter": "python",
   "file_extension": ".py"
  },
  "kernelspec": {
   "name": "python3",
   "display_name": "Python 3.8.10 64-bit"
  },
  "interpreter": {
   "hash": "916dbcbb3f70747c44a77c7bcd40155683ae19c65e1c03b4aa3499c5328201f1"
  }
 },
 "nbformat": 4,
 "nbformat_minor": 2
}
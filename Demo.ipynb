{
 "cells": [
  {
   "cell_type": "code",
   "execution_count": 1,
   "source": [
    "from cvrpy.pso import PSO\n",
    "\n",
    "pso = PSO(\n",
    "    lambda vec: 1/sum(vec),\n",
    "    num_iterations=100,\n",
    "    num_particles=100,\n",
    "    num_dimensions=20\n",
    ")\n",
    "\n",
    "solution = pso.optimize()\n",
    "\n",
    "print(type(solution))\n",
    "print(solution.position)\n"
   ],
   "outputs": [
    {
     "output_type": "stream",
     "name": "stdout",
     "text": [
      "<class 'cvrpy.pso.Particle'>\n",
      "[1. 1. 1. 1. 1. 1. 1. 1. 1. 1. 1. 1. 1. 1. 1. 1. 1. 1. 1. 1.]\n"
     ]
    }
   ],
   "metadata": {}
  },
  {
   "cell_type": "code",
   "execution_count": 17,
   "source": [
    "from loggibud.v1.types import CVRPInstance\n",
    "from cvrpy.particle.decoder import ParticleDecoder\n",
    "from cvrpy.particle.factory import ParticleFactory\n",
    "\n",
    "instance = CVRPInstance.from_file('data/cvrp_castanhal.json')\n",
    "print(f'Número de clientes: {len(instance.deliveries)}')\n",
    "print(f'Capacidade máxima por veículo: {instance.vehicle_capacity}')\n",
    "\n",
    "# Cria uma partícula e decodifica gerando um CVRPSolution\n",
    "particle = ParticleFactory.create_for(instance, sum, num_vehicles=5)\n",
    "solution = ParticleDecoder.decode(particle, instance)\n",
    "\n",
    "for vehicle in solution.vehicles:\n",
    "    sizes = [d.size for d in vehicle.deliveries]\n",
    "    print(f'Total = {sum(sizes)}', sizes, f'{len(sizes)} clientes')\n"
   ],
   "outputs": [
    {
     "output_type": "stream",
     "name": "stdout",
     "text": [
      "Número de clientes: 35\n",
      "Capacidade máxima por veículo: 180\n",
      "Total = 0 [] 0 clientes\n",
      "Total = 0 [] 0 clientes\n",
      "Total = 35 [2, 8, 2, 6, 8, 9] 6 clientes\n",
      "Total = 40 [1, 10, 9, 4, 4, 1, 1, 2, 1, 7] 10 clientes\n",
      "Total = 119 [3, 6, 4, 7, 5, 3, 10, 7, 10, 10, 9, 7, 4, 2, 8, 7, 4, 4, 9] 19 clientes\n"
     ]
    }
   ],
   "metadata": {}
  },
  {
   "cell_type": "markdown",
   "source": [
    "## Função Objetivo\n",
    "\n",
    "Deve calcular a distância percorrida em cada rota, para isso será usado o OSRM\n",
    "como backend fornecedor dos cálculos de distâncias percorridas entre um ponto\n",
    "e outro no mapa.\n",
    "\n",
    "Dado um objeto de CVRPSolution que possui as entregas distribuídas entre os\n",
    "veículos, pra cada veículo, a função deve calcular a distância entre o depósito\n",
    "e a primeira entrega, depois entre a primeira e a segunda entrega e assim por\n",
    "diante até voltar da última entrega para o depósito."
   ],
   "metadata": {}
  },
  {
   "cell_type": "code",
   "execution_count": 48,
   "source": [
    "import requests\n",
    "import json\n",
    "from loggibud.v1.types import CVRPSolutionVehicle, Point, CVRPInstance\n",
    "\n",
    "instance = CVRPInstance.from_file('data/cvrp_castanhal.json')\n",
    "base_url = \"http://localhost:5000\"\n",
    "\n",
    "def request_distance_between(a: Point, b: Point) -> float:\n",
    "    url = f'{base_url}/route/v1/drive/{a.lng},{a.lat};{b.lng},{b.lat}'\n",
    "\n",
    "    response = requests.get(url, params={\n",
    "            'alternatives': 'false',\n",
    "            'steps': 'false',\n",
    "            'overview': 'false'\n",
    "        })\n",
    "\n",
    "    if 200 <= response.status_code < 300:\n",
    "        data = json.loads(response.content)\n",
    "        # print(f'{a} -> {b}, distância = {data[\"routes\"][0][\"distance\"]}')\n",
    "        return data['routes'][0]['distance']\n",
    "    else:\n",
    "        print(f'Erro na requisição GET {response.url}')\n",
    "        return 0.\n",
    "\n",
    "# request_distance_between(instance.origin, instance.deliveries[1].point)"
   ],
   "outputs": [],
   "metadata": {}
  },
  {
   "cell_type": "code",
   "execution_count": 52,
   "source": [
    "from cvrpy.particle.decoder import ParticleDecoder\n",
    "from cvrpy.particle.factory import ParticleFactory\n",
    "\n",
    "# Calcula a distância percorrida por um mesmo veículo partindo da origem e\n",
    "# passando por todos os pontos de entrega, e por último voltando para a origem\n",
    "def vehicle_distance_traveled(vehicle: CVRPSolutionVehicle) -> float:\n",
    "    distance = 0.\n",
    "\n",
    "    if len(vehicle.deliveries) > 0:\n",
    "        distance += request_distance_between(vehicle.origin, vehicle.deliveries[0].point)\n",
    "        for i, delivery in enumerate(vehicle.deliveries):\n",
    "            next_i = i+1\n",
    "            if next_i < len(vehicle.deliveries):\n",
    "                next_delivery = vehicle.deliveries[next_i]\n",
    "                distance += request_distance_between(delivery.point, next_delivery.point)\n",
    "            pass\n",
    "\n",
    "        distance += request_distance_between(vehicle.deliveries[-1].point, vehicle.origin)\n",
    "\n",
    "    return distance\n",
    "\n",
    "\n",
    "# Cria uma partícula e decodifica gerando um CVRPSolution\n",
    "particle = ParticleFactory.create_for(instance, sum, num_vehicles=5)\n",
    "solution = ParticleDecoder.decode(particle, instance)\n",
    "\n",
    "for i, vehicle in enumerate(solution.vehicles):\n",
    "    print(f'Veículo {i+1}')\n",
    "    print(f'\\tNúmero de entregas: {len(vehicle.deliveries)}')\n",
    "    print(f'\\tDistância total: {vehicle_distance_traveled(vehicle)}')\n",
    "    print(f'\\tPeso: {vehicle.occupation}')\n",
    "\n",
    "vehicle_distance_traveled(solution.vehicles[0])"
   ],
   "outputs": [
    {
     "output_type": "stream",
     "name": "stdout",
     "text": [
      "Veículo 1\n",
      "\tNúmero de entregas: 29\n",
      "\tDistância total: 64194.7\n",
      "\tPeso: 159\n",
      "Veículo 2\n",
      "\tNúmero de entregas: 3\n",
      "\tDistância total: 109009.4\n",
      "\tPeso: 19\n",
      "Veículo 3\n",
      "\tNúmero de entregas: 3\n",
      "\tDistância total: 66367.3\n",
      "\tPeso: 16\n",
      "Veículo 4\n",
      "\tNúmero de entregas: 0\n",
      "\tDistância total: 0.0\n",
      "\tPeso: 0\n",
      "Veículo 5\n",
      "\tNúmero de entregas: 0\n",
      "\tDistância total: 0.0\n",
      "\tPeso: 0\n"
     ]
    },
    {
     "output_type": "execute_result",
     "data": {
      "text/plain": [
       "64194.7"
      ]
     },
     "metadata": {},
     "execution_count": 52
    }
   ],
   "metadata": {}
  }
 ],
 "metadata": {
  "orig_nbformat": 4,
  "language_info": {
   "name": "python",
   "version": "3.8.10",
   "mimetype": "text/x-python",
   "codemirror_mode": {
    "name": "ipython",
    "version": 3
   },
   "pygments_lexer": "ipython3",
   "nbconvert_exporter": "python",
   "file_extension": ".py"
  },
  "kernelspec": {
   "name": "python3",
   "display_name": "Python 3.8.10 64-bit"
  },
  "interpreter": {
   "hash": "916dbcbb3f70747c44a77c7bcd40155683ae19c65e1c03b4aa3499c5328201f1"
  }
 },
 "nbformat": 4,
 "nbformat_minor": 2
}
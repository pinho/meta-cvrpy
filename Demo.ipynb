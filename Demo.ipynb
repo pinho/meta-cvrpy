{
 "cells": [
  {
   "cell_type": "code",
   "execution_count": 11,
   "source": [
    "from cvrpy.pso import PSO\n",
    "\n",
    "pso = PSO(\n",
    "    lambda vec: 1/sum(vec),\n",
    "    num_iterations=100,\n",
    "    num_particles=100,\n",
    "    num_dimensions=20,\n",
    "    range_values=(0.0, 2.0)\n",
    ")\n",
    "\n",
    "solution = pso.start()\n",
    "\n",
    "print(type(solution))\n",
    "print(solution.position)\n"
   ],
   "outputs": [
    {
     "output_type": "stream",
     "name": "stdout",
     "text": [
      "<class 'cvrpy.pso.Particle'>\n",
      "[1. 1. 1. 1. 1. 1. 1. 1. 1. 1. 1. 1. 1. 1. 1. 1. 1. 1. 1. 1.]\n"
     ]
    }
   ],
   "metadata": {}
  }
 ],
 "metadata": {
  "orig_nbformat": 4,
  "language_info": {
   "name": "python",
   "version": "3.8.10",
   "mimetype": "text/x-python",
   "codemirror_mode": {
    "name": "ipython",
    "version": 3
   },
   "pygments_lexer": "ipython3",
   "nbconvert_exporter": "python",
   "file_extension": ".py"
  },
  "kernelspec": {
   "name": "python3",
   "display_name": "Python 3.8.10 64-bit"
  },
  "interpreter": {
   "hash": "916dbcbb3f70747c44a77c7bcd40155683ae19c65e1c03b4aa3499c5328201f1"
  }
 },
 "nbformat": 4,
 "nbformat_minor": 2
}